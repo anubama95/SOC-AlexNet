{
 "cells": [
  {
   "cell_type": "code",
   "execution_count": 0,
   "metadata": {
    "colab": {},
    "colab_type": "code",
    "id": "rkIUJIlnwXjG"
   },
   "outputs": [],
   "source": [
    "from keras.models import Sequential\n",
    "from keras.layers import Convolution2D, MaxPooling2D, Flatten, Dense, Dropout\n",
    "from keras.layers.normalization import BatchNormalization\n",
    "from keras import optimizers\n",
    "from keras.preprocessing.image import ImageDataGenerator\n",
    "from keras.callbacks import ModelCheckpoint"
   ]
  },
  {
   "cell_type": "code",
   "execution_count": 0,
   "metadata": {
    "colab": {
     "base_uri": "https://localhost:8080/",
     "height": 958
    },
    "colab_type": "code",
    "executionInfo": {
     "elapsed": 1831,
     "status": "ok",
     "timestamp": 1589187640888,
     "user": {
      "displayName": "sabana mohideen pathumuthu",
      "photoUrl": "",
      "userId": "02180462052237369231"
     },
     "user_tz": -330
    },
    "id": "r2pBTw2pwix7",
    "outputId": "725130f3-aa16-452f-c56d-70a78fb0df51"
   },
   "outputs": [
    {
     "name": "stdout",
     "output_type": "stream",
     "text": [
      "Model: \"sequential_5\"\n",
      "_________________________________________________________________\n",
      "Layer (type)                 Output Shape              Param #   \n",
      "=================================================================\n",
      "conv2d_21 (Conv2D)           (None, 54, 54, 96)        34944     \n",
      "_________________________________________________________________\n",
      "max_pooling2d_14 (MaxPooling (None, 27, 27, 96)        0         \n",
      "_________________________________________________________________\n",
      "batch_normalization_33 (Batc (None, 27, 27, 96)        384       \n",
      "_________________________________________________________________\n",
      "conv2d_22 (Conv2D)           (None, 17, 17, 256)       2973952   \n",
      "_________________________________________________________________\n",
      "max_pooling2d_15 (MaxPooling (None, 8, 8, 256)         0         \n",
      "_________________________________________________________________\n",
      "batch_normalization_34 (Batc (None, 8, 8, 256)         1024      \n",
      "_________________________________________________________________\n",
      "conv2d_23 (Conv2D)           (None, 6, 6, 384)         885120    \n",
      "_________________________________________________________________\n",
      "batch_normalization_35 (Batc (None, 6, 6, 384)         1536      \n",
      "_________________________________________________________________\n",
      "conv2d_24 (Conv2D)           (None, 4, 4, 384)         1327488   \n",
      "_________________________________________________________________\n",
      "batch_normalization_36 (Batc (None, 4, 4, 384)         1536      \n",
      "_________________________________________________________________\n",
      "conv2d_25 (Conv2D)           (None, 2, 2, 256)         884992    \n",
      "_________________________________________________________________\n",
      "max_pooling2d_16 (MaxPooling (None, 1, 1, 256)         0         \n",
      "_________________________________________________________________\n",
      "batch_normalization_37 (Batc (None, 1, 1, 256)         1024      \n",
      "_________________________________________________________________\n",
      "flatten_5 (Flatten)          (None, 256)               0         \n",
      "_________________________________________________________________\n",
      "dense_17 (Dense)             (None, 4096)              1052672   \n",
      "_________________________________________________________________\n",
      "dropout_13 (Dropout)         (None, 4096)              0         \n",
      "_________________________________________________________________\n",
      "batch_normalization_38 (Batc (None, 4096)              16384     \n",
      "_________________________________________________________________\n",
      "dense_18 (Dense)             (None, 4096)              16781312  \n",
      "_________________________________________________________________\n",
      "dropout_14 (Dropout)         (None, 4096)              0         \n",
      "_________________________________________________________________\n",
      "batch_normalization_39 (Batc (None, 4096)              16384     \n",
      "_________________________________________________________________\n",
      "dense_19 (Dense)             (None, 1000)              4097000   \n",
      "_________________________________________________________________\n",
      "dropout_15 (Dropout)         (None, 1000)              0         \n",
      "_________________________________________________________________\n",
      "batch_normalization_40 (Batc (None, 1000)              4000      \n",
      "_________________________________________________________________\n",
      "dense_20 (Dense)             (None, 4)                 4004      \n",
      "=================================================================\n",
      "Total params: 28,083,756\n",
      "Trainable params: 28,062,620\n",
      "Non-trainable params: 21,136\n",
      "_________________________________________________________________\n"
     ]
    }
   ],
   "source": [
    "# Initializing the CNN\n",
    "classifier = Sequential()\n",
    "\n",
    "# Convolution Step 1\n",
    "classifier.add(Convolution2D(96, 11, strides = (4, 4), padding = 'valid', input_shape=(224, 224, 3), activation = 'relu'))\n",
    "\n",
    "# Max Pooling Step 1\n",
    "classifier.add(MaxPooling2D(pool_size = (2, 2), strides = (2, 2), padding = 'valid'))\n",
    "classifier.add(BatchNormalization())\n",
    "\n",
    "# Convolution Step 2\n",
    "classifier.add(Convolution2D(256, 11, strides = (1, 1), padding='valid', activation = 'relu'))\n",
    "\n",
    "# Max Pooling Step 2\n",
    "classifier.add(MaxPooling2D(pool_size = (2, 2), strides = (2, 2), padding='valid'))\n",
    "classifier.add(BatchNormalization())\n",
    "\n",
    "# Convolution Step 3\n",
    "classifier.add(Convolution2D(384, 3, strides = (1, 1), padding='valid', activation = 'relu'))\n",
    "classifier.add(BatchNormalization())\n",
    "\n",
    "# Convolution Step 4\n",
    "classifier.add(Convolution2D(384, 3, strides = (1, 1), padding='valid', activation = 'relu'))\n",
    "classifier.add(BatchNormalization())\n",
    "\n",
    "# Convolution Step 5\n",
    "classifier.add(Convolution2D(256, 3, strides=(1,1), padding='valid', activation = 'relu'))\n",
    "\n",
    "# Max Pooling Step 3\n",
    "classifier.add(MaxPooling2D(pool_size = (2, 2), strides = (2, 2), padding = 'valid'))\n",
    "classifier.add(BatchNormalization())\n",
    "\n",
    "# Flattening Step\n",
    "classifier.add(Flatten())\n",
    "\n",
    "# Full Connection Step\n",
    "classifier.add(Dense(units = 4096, activation = 'relu'))\n",
    "classifier.add(Dropout(0.25))\n",
    "classifier.add(BatchNormalization())\n",
    "classifier.add(Dense(units = 4096, activation = 'relu'))\n",
    "classifier.add(Dropout(0.25))\n",
    "classifier.add(BatchNormalization())\n",
    "classifier.add(Dense(units = 1000, activation = 'relu'))\n",
    "classifier.add(Dropout(0.2))\n",
    "classifier.add(BatchNormalization())\n",
    "classifier.add(Dense(units = 4, activation = 'softmax'))\n",
    "classifier.summary()"
   ]
  },
  {
   "cell_type": "code",
   "execution_count": 0,
   "metadata": {
    "colab": {},
    "colab_type": "code",
    "id": "Rb2Nxyi9wlvE"
   },
   "outputs": [],
   "source": [
    "# Compiling the CNN\n",
    " classifier.compile(optimizer='adam',\n",
    "                   loss='categorical_crossentropy',\n",
    "                    metrics=['accuracy'])\n"
   ]
  },
  {
   "cell_type": "code",
   "execution_count": 0,
   "metadata": {
    "colab": {},
    "colab_type": "code",
    "id": "wjvBRLSAw0AA"
   },
   "outputs": [],
   "source": [
    "\n",
    "# Compiling the CNN\n",
    "classifier.compile(optimizer=optimizers.SGD(lr=0.001, momentum=0.9, decay=0.005),\n",
    "                   loss='categorical_crossentropy',\n",
    "                   metrics=['accuracy'])"
   ]
  },
  {
   "cell_type": "code",
   "execution_count": 0,
   "metadata": {
    "colab": {},
    "colab_type": "code",
    "id": "bkaUmP9Uw6r6"
   },
   "outputs": [],
   "source": [
    "# image preprocessing\n",
    "train_datagen = ImageDataGenerator(rescale=1./255,\n",
    "                                   shear_range=0.2,\n",
    "                                   zoom_range=0.2,\n",
    "                                   width_shift_range=0.2,\n",
    "                                   height_shift_range=0.2,\n",
    "                                   rotation_range=40,\n",
    "                                   horizontal_flip=True,\n",
    "                                   fill_mode='nearest')\n",
    "\n",
    "test_datagen = ImageDataGenerator(rescale=1./255)\n",
    "\n",
    "batch_size = 32"
   ]
  },
  {
   "cell_type": "code",
   "execution_count": 0,
   "metadata": {
    "colab": {},
    "colab_type": "code",
    "id": "KNL9RbOIxVuV"
   },
   "outputs": [],
   "source": [
    "train_data_dir = \"/content/drive/My Drive/data/train\"     # directory of training data\n",
    "\n",
    "test_data_dir = \"/content/drive/My Drive/data/Test\"      # directory of test data"
   ]
  },
  {
   "cell_type": "code",
   "execution_count": 0,
   "metadata": {
    "colab": {
     "base_uri": "https://localhost:8080/",
     "height": 50
    },
    "colab_type": "code",
    "executionInfo": {
     "elapsed": 1672,
     "status": "ok",
     "timestamp": 1589187652019,
     "user": {
      "displayName": "sabana mohideen pathumuthu",
      "photoUrl": "",
      "userId": "02180462052237369231"
     },
     "user_tz": -330
    },
    "id": "89uhVLTYAt0o",
    "outputId": "bb260ff9-9cad-46c8-ebde-7ad456ffd1c2"
   },
   "outputs": [
    {
     "name": "stdout",
     "output_type": "stream",
     "text": [
      "Found 1305 images belonging to 4 classes.\n",
      "Found 186 images belonging to 4 classes.\n"
     ]
    }
   ],
   "source": [
    "training_set = train_datagen.flow_from_directory(train_data_dir,\n",
    "                                                 target_size=(224, 224),\n",
    "                                                 batch_size=batch_size,\n",
    "                                                 class_mode='categorical')\n",
    "\n",
    "test_set = test_datagen.flow_from_directory(test_data_dir,\n",
    "                                            target_size=(224, 224),\n",
    "                                            batch_size=batch_size,\n",
    "                                            class_mode='categorical')"
   ]
  },
  {
   "cell_type": "code",
   "execution_count": 0,
   "metadata": {
    "colab": {
     "base_uri": "https://localhost:8080/",
     "height": 34
    },
    "colab_type": "code",
    "executionInfo": {
     "elapsed": 701,
     "status": "ok",
     "timestamp": 1589187653419,
     "user": {
      "displayName": "sabana mohideen pathumuthu",
      "photoUrl": "",
      "userId": "02180462052237369231"
     },
     "user_tz": -330
    },
    "id": "AMEzJcj_BZCd",
    "outputId": "6c15bb64-92b2-4a84-a710-eeb185fb4eb1"
   },
   "outputs": [
    {
     "name": "stdout",
     "output_type": "stream",
     "text": [
      "{'Inorganic': 0, 'Organic High': 1, 'Organic Low': 2, 'Organic Medium': 3}\n"
     ]
    }
   ],
   "source": [
    "print(training_set.class_indices)"
   ]
  },
  {
   "cell_type": "code",
   "execution_count": 48,
   "metadata": {
    "colab": {
     "base_uri": "https://localhost:8080/",
     "height": 1000
    },
    "colab_type": "code",
    "executionInfo": {
     "elapsed": 3354976,
     "status": "ok",
     "timestamp": 1589199854163,
     "user": {
      "displayName": "sabana mohideen pathumuthu",
      "photoUrl": "",
      "userId": "02180462052237369231"
     },
     "user_tz": -330
    },
    "id": "u_PjgP0cyQgT",
    "outputId": "3046495f-de3a-462e-cd10-92de0839b282",
    "scrolled": false
   },
   "outputs": [
    {
     "name": "stdout",
     "output_type": "stream",
     "text": [
      "Epoch 1/50\n",
      "40/40 [==============================] - 239s 6s/step - loss: 1.7056 - accuracy: 0.3692 - val_loss: 2.1328 - val_accuracy: 0.3125\n",
      "Epoch 2/50\n",
      "40/40 [==============================] - 245s 6s/step - loss: 1.5081 - accuracy: 0.4580 - val_loss: 2.7476 - val_accuracy: 0.4870\n",
      "Epoch 3/50\n",
      "40/40 [==============================] - 241s 6s/step - loss: 1.4397 - accuracy: 0.4588 - val_loss: 1.0727 - val_accuracy: 0.5390\n",
      "Epoch 4/50\n",
      "40/40 [==============================] - 229s 6s/step - loss: 1.3409 - accuracy: 0.4815 - val_loss: 1.5191 - val_accuracy: 0.3701\n",
      "Epoch 5/50\n",
      "40/40 [==============================] - 233s 6s/step - loss: 1.2820 - accuracy: 0.5031 - val_loss: 1.7875 - val_accuracy: 0.2987\n",
      "Epoch 6/50\n",
      "40/40 [==============================] - 232s 6s/step - loss: 1.1887 - accuracy: 0.5428 - val_loss: 1.8129 - val_accuracy: 0.1818\n",
      "Epoch 7/50\n",
      "40/40 [==============================] - 241s 6s/step - loss: 1.2047 - accuracy: 0.5192 - val_loss: 1.4774 - val_accuracy: 0.3375\n",
      "Epoch 8/50\n",
      "40/40 [==============================] - 260s 7s/step - loss: 1.1331 - accuracy: 0.5395 - val_loss: 1.4602 - val_accuracy: 0.4545\n",
      "Epoch 9/50\n",
      "40/40 [==============================] - 240s 6s/step - loss: 1.0583 - accuracy: 0.5789 - val_loss: 1.5007 - val_accuracy: 0.4416\n",
      "Epoch 10/50\n",
      "40/40 [==============================] - 240s 6s/step - loss: 1.0888 - accuracy: 0.5475 - val_loss: 1.3193 - val_accuracy: 0.5130\n",
      "Epoch 11/50\n",
      "40/40 [==============================] - 237s 6s/step - loss: 1.1112 - accuracy: 0.5379 - val_loss: 1.6568 - val_accuracy: 0.5325\n",
      "Epoch 12/50\n",
      "40/40 [==============================] - 245s 6s/step - loss: 1.0497 - accuracy: 0.5679 - val_loss: 1.5722 - val_accuracy: 0.4026\n",
      "Epoch 13/50\n",
      "40/40 [==============================] - 255s 6s/step - loss: 1.0357 - accuracy: 0.5609 - val_loss: 1.5732 - val_accuracy: 0.4938\n",
      "Epoch 14/50\n",
      "40/40 [==============================] - 268s 7s/step - loss: 1.0448 - accuracy: 0.5734 - val_loss: 1.5662 - val_accuracy: 0.5455\n",
      "Epoch 15/50\n",
      "40/40 [==============================] - 238s 6s/step - loss: 1.0442 - accuracy: 0.5585 - val_loss: 1.2972 - val_accuracy: 0.4935\n",
      "Epoch 16/50\n",
      "40/40 [==============================] - 236s 6s/step - loss: 1.0192 - accuracy: 0.5648 - val_loss: 1.6690 - val_accuracy: 0.5325\n",
      "Epoch 17/50\n",
      "40/40 [==============================] - 235s 6s/step - loss: 1.0282 - accuracy: 0.5687 - val_loss: 1.4683 - val_accuracy: 0.4935\n",
      "Epoch 18/50\n",
      "40/40 [==============================] - 235s 6s/step - loss: 0.9830 - accuracy: 0.5868 - val_loss: 1.4148 - val_accuracy: 0.4221\n",
      "Epoch 19/50\n",
      "40/40 [==============================] - 250s 6s/step - loss: 1.0265 - accuracy: 0.5868 - val_loss: 1.2381 - val_accuracy: 0.5813\n",
      "Epoch 20/50\n",
      "40/40 [==============================] - 270s 7s/step - loss: 0.9955 - accuracy: 0.5906 - val_loss: 1.3304 - val_accuracy: 0.4935\n",
      "Epoch 21/50\n",
      "40/40 [==============================] - 243s 6s/step - loss: 0.9916 - accuracy: 0.5853 - val_loss: 1.4161 - val_accuracy: 0.3961\n",
      "Epoch 22/50\n",
      "40/40 [==============================] - 244s 6s/step - loss: 1.0069 - accuracy: 0.5727 - val_loss: 1.4171 - val_accuracy: 0.6039\n",
      "Epoch 23/50\n",
      "40/40 [==============================] - 241s 6s/step - loss: 0.9495 - accuracy: 0.5972 - val_loss: 1.2951 - val_accuracy: 0.5584\n",
      "Epoch 24/50\n",
      "40/40 [==============================] - 245s 6s/step - loss: 0.9350 - accuracy: 0.5986 - val_loss: 1.2137 - val_accuracy: 0.5649\n",
      "Epoch 25/50\n",
      "40/40 [==============================] - 255s 6s/step - loss: 0.9285 - accuracy: 0.5938 - val_loss: 1.5883 - val_accuracy: 0.5625\n",
      "Epoch 26/50\n",
      "40/40 [==============================] - 270s 7s/step - loss: 0.9743 - accuracy: 0.5829 - val_loss: 1.9272 - val_accuracy: 0.4351\n",
      "Epoch 27/50\n",
      "40/40 [==============================] - 241s 6s/step - loss: 0.9738 - accuracy: 0.5893 - val_loss: 1.7345 - val_accuracy: 0.5130\n",
      "Epoch 28/50\n",
      "40/40 [==============================] - 243s 6s/step - loss: 0.9139 - accuracy: 0.6167 - val_loss: 1.3002 - val_accuracy: 0.5584\n",
      "Epoch 29/50\n",
      "40/40 [==============================] - 241s 6s/step - loss: 0.9615 - accuracy: 0.5892 - val_loss: 1.6374 - val_accuracy: 0.5584\n",
      "Epoch 30/50\n",
      "40/40 [==============================] - 245s 6s/step - loss: 0.9533 - accuracy: 0.5914 - val_loss: 2.2139 - val_accuracy: 0.4545\n",
      "Epoch 31/50\n",
      "40/40 [==============================] - 252s 6s/step - loss: 0.9596 - accuracy: 0.6057 - val_loss: 1.1775 - val_accuracy: 0.5437\n",
      "Epoch 32/50\n",
      "40/40 [==============================] - 264s 7s/step - loss: 0.9034 - accuracy: 0.6461 - val_loss: 1.1615 - val_accuracy: 0.5974\n",
      "Epoch 33/50\n",
      "40/40 [==============================] - 241s 6s/step - loss: 0.9352 - accuracy: 0.6125 - val_loss: 1.6266 - val_accuracy: 0.4675\n",
      "Epoch 34/50\n",
      "40/40 [==============================] - 240s 6s/step - loss: 0.9708 - accuracy: 0.5986 - val_loss: 1.3330 - val_accuracy: 0.6104\n",
      "Epoch 35/50\n",
      "40/40 [==============================] - 238s 6s/step - loss: 0.9038 - accuracy: 0.6261 - val_loss: 1.5437 - val_accuracy: 0.5519\n",
      "Epoch 36/50\n",
      "40/40 [==============================] - 237s 6s/step - loss: 0.9194 - accuracy: 0.6167 - val_loss: 0.6522 - val_accuracy: 0.5519\n",
      "Epoch 37/50\n",
      "40/40 [==============================] - 245s 6s/step - loss: 0.8754 - accuracy: 0.6284 - val_loss: 1.6228 - val_accuracy: 0.5813\n",
      "Epoch 38/50\n",
      "40/40 [==============================] - 265s 7s/step - loss: 0.8850 - accuracy: 0.6316 - val_loss: 1.7356 - val_accuracy: 0.4870\n",
      "Epoch 39/50\n",
      "40/40 [==============================] - 234s 6s/step - loss: 0.8846 - accuracy: 0.6261 - val_loss: 1.5641 - val_accuracy: 0.5519\n",
      "Epoch 40/50\n",
      "40/40 [==============================] - 232s 6s/step - loss: 0.9341 - accuracy: 0.5899 - val_loss: 1.7531 - val_accuracy: 0.5455\n",
      "Epoch 41/50\n",
      "40/40 [==============================] - 230s 6s/step - loss: 0.9295 - accuracy: 0.6009 - val_loss: 1.1781 - val_accuracy: 0.5455\n",
      "Epoch 42/50\n",
      "40/40 [==============================] - 231s 6s/step - loss: 0.8968 - accuracy: 0.6253 - val_loss: 2.0578 - val_accuracy: 0.4481\n",
      "Epoch 43/50\n",
      "40/40 [==============================] - 240s 6s/step - loss: 0.9164 - accuracy: 0.6222 - val_loss: 1.9046 - val_accuracy: 0.4938\n",
      "Epoch 44/50\n",
      "40/40 [==============================] - 252s 6s/step - loss: 0.9043 - accuracy: 0.6269 - val_loss: 1.0024 - val_accuracy: 0.4740\n",
      "Epoch 45/50\n",
      "40/40 [==============================] - 242s 6s/step - loss: 0.9022 - accuracy: 0.6159 - val_loss: 1.6558 - val_accuracy: 0.5844\n",
      "Epoch 46/50\n",
      "40/40 [==============================] - 240s 6s/step - loss: 0.8956 - accuracy: 0.6339 - val_loss: 1.5277 - val_accuracy: 0.5779\n",
      "Epoch 47/50\n",
      "40/40 [==============================] - 242s 6s/step - loss: 0.8817 - accuracy: 0.6324 - val_loss: 1.7026 - val_accuracy: 0.5260\n",
      "Epoch 48/50\n",
      "40/40 [==============================] - 236s 6s/step - loss: 0.8960 - accuracy: 0.6300 - val_loss: 1.7361 - val_accuracy: 0.5519\n",
      "Epoch 49/50\n",
      "40/40 [==============================] - 240s 6s/step - loss: 0.9372 - accuracy: 0.6167 - val_loss: 1.2781 - val_accuracy: 0.5562\n",
      "Epoch 50/50\n",
      "40/40 [==============================] - 256s 6s/step - loss: 0.8852 - accuracy: 0.6258 - val_loss: 1.7404 - val_accuracy: 0.5649\n"
     ]
    }
   ],
   "source": [
    "\n",
    "# # checkpoint\n",
    "# weightpath = \"weights_1.hdf5\"\n",
    "# checkpoint = ModelCheckpoint(weightpath, monitor='val_acc', verbose=1, save_best_only=True, mode='max')\n",
    "# callbacks_list = [checkpoint]\n",
    "#\n",
    "#\n",
    "# #fitting images to CNN\n",
    "# history = classifier.fit_generator(training_set,\n",
    "#                          steps_per_epoch=training_set.samples//batch_size,\n",
    "#                          validation_data=test_set,\n",
    "#                          epochs=50,\n",
    "#                          validation_steps=test_set.samples//batch_size,\n",
    "#                          callbacks=callbacks_list)\n",
    "\n",
    "\n",
    "#fitting images to CNN\n",
    "history = classifier.fit_generator(training_set,\n",
    "                                   steps_per_epoch=training_set.samples//batch_size,\n",
    "                                   validation_data=test_set,\n",
    "                                   epochs=50,\n",
    "                                   validation_steps=test_set.samples//batch_size)"
   ]
  },
  {
   "cell_type": "code",
   "execution_count": 49,
   "metadata": {
    "colab": {
     "base_uri": "https://localhost:8080/",
     "height": 34
    },
    "colab_type": "code",
    "executionInfo": {
     "elapsed": 1800,
     "status": "ok",
     "timestamp": 1589200016977,
     "user": {
      "displayName": "sabana mohideen pathumuthu",
      "photoUrl": "",
      "userId": "02180462052237369231"
     },
     "user_tz": -330
    },
    "id": "kFR0mrS2yZup",
    "outputId": "cc051c72-4e50-408c-eb46-b3e3ebbe8664"
   },
   "outputs": [
    {
     "name": "stdout",
     "output_type": "stream",
     "text": [
      "model saved to disk....\n"
     ]
    }
   ],
   "source": [
    "\n",
    "#Save model to json\n",
    "import os\n",
    "classifier.save_weights(\"/content/drive/My Drive/alexaorg.h5\")\n",
    "print(\"model saved to disk....\")"
   ]
  },
  {
   "cell_type": "code",
   "execution_count": 0,
   "metadata": {
    "colab": {},
    "colab_type": "code",
    "id": "IwMFxhU5s86W"
   },
   "outputs": [],
   "source": []
  }
 ],
 "metadata": {
  "accelerator": "GPU",
  "colab": {
   "authorship_tag": "ABX9TyMGWM8moCEOfBXTX2Nc66aZ",
   "collapsed_sections": [],
   "name": "Untitled4.ipynb",
   "provenance": []
  },
  "kernelspec": {
   "display_name": "Python 3",
   "language": "python",
   "name": "python3"
  },
  "language_info": {
   "codemirror_mode": {
    "name": "ipython",
    "version": 3
   },
   "file_extension": ".py",
   "mimetype": "text/x-python",
   "name": "python",
   "nbconvert_exporter": "python",
   "pygments_lexer": "ipython3",
   "version": "3.7.4"
  }
 },
 "nbformat": 4,
 "nbformat_minor": 1
}
